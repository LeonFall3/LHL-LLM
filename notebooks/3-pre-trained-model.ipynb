{
 "cells": [
  {
   "cell_type": "code",
   "execution_count": 3,
   "metadata": {},
   "outputs": [
    {
     "name": "stderr",
     "output_type": "stream",
     "text": [
      "Saving the dataset (1/1 shards): 100%|██████████| 11314/11314 [00:00<00:00, 179424.44 examples/s]\n",
      "Saving the dataset (1/1 shards): 100%|██████████| 7532/7532 [00:00<00:00, 228034.89 examples/s]\n"
     ]
    }
   ],
   "source": [
    "import pandas as pd\n",
    "ds_train = pd.read_pickle('pickles/ds_train.pkl')\n",
    "ds_test = pd.read_pickle('pickles/ds_test.pkl')\n",
    "\n",
    "ds_train = ds_train.rename(columns={'label':'og_label', 'simple_topic':'label'})\n",
    "ds_test = ds_test.rename(columns={'label':'og_label', 'simple_topic':'label'})\n",
    "\n",
    "from datasets import Dataset, DatasetDict\n",
    "new_train = Dataset.from_pandas(ds_train[['no_stopword', 'label_text','label']])\n",
    "new_test = Dataset.from_pandas(ds_test[['no_stopword', 'label_text','label']])\n",
    "\n",
    "new_ds = DatasetDict({\n",
    "    'train': new_train,\n",
    "    'test': new_test})\n",
    "new_ds.save_to_disk('data')"
   ]
  },
  {
   "cell_type": "code",
   "execution_count": 5,
   "metadata": {},
   "outputs": [
    {
     "name": "stderr",
     "output_type": "stream",
     "text": [
      "Some weights of DistilBertForSequenceClassification were not initialized from the model checkpoint at distilbert-base-uncased and are newly initialized: ['classifier.bias', 'classifier.weight', 'pre_classifier.bias', 'pre_classifier.weight']\n",
      "You should probably TRAIN this model on a down-stream task to be able to use it for predictions and inference.\n"
     ]
    },
    {
     "name": "stdout",
     "output_type": "stream",
     "text": [
      "tensor([[0.5093, 0.4907]], grad_fn=<SoftmaxBackward0>)\n"
     ]
    }
   ],
   "source": [
    "# Huggingface pipeline\n",
    "from transformers import DistilBertTokenizer, DistilBertForSequenceClassification\n",
    "import torch\n",
    "\n",
    "# Load model and tokenizer\n",
    "tokenizer = DistilBertTokenizer.from_pretrained(\"distilbert-base-uncased\")\n",
    "model = DistilBertForSequenceClassification.from_pretrained(\"distilbert-base-uncased\")\n",
    "\n",
    "# Prepare input\n",
    "text = \"This is a sample sentence.\"\n",
    "inputs = tokenizer(text, return_tensors=\"pt\")\n",
    "\n",
    "# Forward pass\n",
    "outputs = model(**inputs)\n",
    "\n",
    "# Logits to predictions\n",
    "logits = outputs.logits\n",
    "predictions = torch.nn.functional.softmax(logits, dim=-1)\n",
    "\n",
    "print(predictions)\n"
   ]
  }
 ],
 "metadata": {
  "kernelspec": {
   "display_name": ".conda",
   "language": "python",
   "name": "python3"
  },
  "language_info": {
   "codemirror_mode": {
    "name": "ipython",
    "version": 3
   },
   "file_extension": ".py",
   "mimetype": "text/x-python",
   "name": "python",
   "nbconvert_exporter": "python",
   "pygments_lexer": "ipython3",
   "version": "3.11.10"
  },
  "orig_nbformat": 4
 },
 "nbformat": 4,
 "nbformat_minor": 2
}
