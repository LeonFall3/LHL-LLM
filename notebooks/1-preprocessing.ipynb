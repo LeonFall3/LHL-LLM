{
 "cells": [
  {
   "cell_type": "markdown",
   "metadata": {
    "id": "N9ovfk6VJgXq"
   },
   "source": [
    "# Setup\n",
    "Loading Dataset and getting basic general info"
   ]
  },
  {
   "cell_type": "code",
   "execution_count": 28,
   "metadata": {
    "collapsed": true,
    "id": "YZJxZiIJGy2S"
   },
   "outputs": [
    {
     "name": "stderr",
     "output_type": "stream",
     "text": [
      "Repo card metadata block was not found. Setting CardData to empty.\n"
     ]
    }
   ],
   "source": [
    "from datasets import load_dataset\n",
    "ds = load_dataset('SetFit/20_newsgroups')\n",
    "\n",
    "import pandas as pd\n",
    "ds_train = pd.DataFrame(ds['train'])\n",
    "ds_test = pd.DataFrame(ds['test'])\n",
    "import sys\n",
    "sys.path.append(r'notebooks/python_scripts')\n",
    "from LLMscripts import *\n",
    "from LLMscripts import remove_stopwords"
   ]
  },
  {
   "cell_type": "code",
   "execution_count": 29,
   "metadata": {
    "colab": {
     "base_uri": "https://localhost:8080/",
     "height": 206
    },
    "id": "aAxLY-joIdSx",
    "outputId": "c54614eb-8da6-4b31-bb90-13d9b71f2413"
   },
   "outputs": [
    {
     "data": {
      "text/html": [
       "<div>\n",
       "<style scoped>\n",
       "    .dataframe tbody tr th:only-of-type {\n",
       "        vertical-align: middle;\n",
       "    }\n",
       "\n",
       "    .dataframe tbody tr th {\n",
       "        vertical-align: top;\n",
       "    }\n",
       "\n",
       "    .dataframe thead th {\n",
       "        text-align: right;\n",
       "    }\n",
       "</style>\n",
       "<table border=\"1\" class=\"dataframe\">\n",
       "  <thead>\n",
       "    <tr style=\"text-align: right;\">\n",
       "      <th></th>\n",
       "      <th>text</th>\n",
       "      <th>label</th>\n",
       "      <th>label_text</th>\n",
       "    </tr>\n",
       "  </thead>\n",
       "  <tbody>\n",
       "    <tr>\n",
       "      <th>0</th>\n",
       "      <td>I was wondering if anyone out there could enli...</td>\n",
       "      <td>7</td>\n",
       "      <td>rec.autos</td>\n",
       "    </tr>\n",
       "    <tr>\n",
       "      <th>1</th>\n",
       "      <td>A fair number of brave souls who upgraded thei...</td>\n",
       "      <td>4</td>\n",
       "      <td>comp.sys.mac.hardware</td>\n",
       "    </tr>\n",
       "    <tr>\n",
       "      <th>2</th>\n",
       "      <td>well folks, my mac plus finally gave up the gh...</td>\n",
       "      <td>4</td>\n",
       "      <td>comp.sys.mac.hardware</td>\n",
       "    </tr>\n",
       "    <tr>\n",
       "      <th>3</th>\n",
       "      <td>\\nDo you have Weitek's address/phone number?  ...</td>\n",
       "      <td>1</td>\n",
       "      <td>comp.graphics</td>\n",
       "    </tr>\n",
       "    <tr>\n",
       "      <th>4</th>\n",
       "      <td>From article &lt;C5owCB.n3p@world.std.com&gt;, by to...</td>\n",
       "      <td>14</td>\n",
       "      <td>sci.space</td>\n",
       "    </tr>\n",
       "  </tbody>\n",
       "</table>\n",
       "</div>"
      ],
      "text/plain": [
       "                                                text  label  \\\n",
       "0  I was wondering if anyone out there could enli...      7   \n",
       "1  A fair number of brave souls who upgraded thei...      4   \n",
       "2  well folks, my mac plus finally gave up the gh...      4   \n",
       "3  \\nDo you have Weitek's address/phone number?  ...      1   \n",
       "4  From article <C5owCB.n3p@world.std.com>, by to...     14   \n",
       "\n",
       "              label_text  \n",
       "0              rec.autos  \n",
       "1  comp.sys.mac.hardware  \n",
       "2  comp.sys.mac.hardware  \n",
       "3          comp.graphics  \n",
       "4              sci.space  "
      ]
     },
     "execution_count": 29,
     "metadata": {},
     "output_type": "execute_result"
    }
   ],
   "source": [
    "ds_train.head()"
   ]
  },
  {
   "cell_type": "code",
   "execution_count": 30,
   "metadata": {
    "colab": {
     "base_uri": "https://localhost:8080/"
    },
    "id": "D87InCQhIhAQ",
    "outputId": "52e60341-2250-4688-bea1-6731d3732aea"
   },
   "outputs": [
    {
     "name": "stdout",
     "output_type": "stream",
     "text": [
      "<class 'pandas.core.frame.DataFrame'>\n",
      "RangeIndex: 11314 entries, 0 to 11313\n",
      "Data columns (total 3 columns):\n",
      " #   Column      Non-Null Count  Dtype \n",
      "---  ------      --------------  ----- \n",
      " 0   text        11314 non-null  object\n",
      " 1   label       11314 non-null  int64 \n",
      " 2   label_text  11314 non-null  object\n",
      "dtypes: int64(1), object(2)\n",
      "memory usage: 265.3+ KB\n"
     ]
    }
   ],
   "source": [
    "ds_train.info()"
   ]
  },
  {
   "cell_type": "code",
   "execution_count": 31,
   "metadata": {
    "colab": {
     "base_uri": "https://localhost:8080/",
     "height": 175
    },
    "id": "0qC6klgjImwq",
    "outputId": "c05658f3-9873-4805-90c0-6543b2780859"
   },
   "outputs": [
    {
     "data": {
      "text/html": [
       "<div>\n",
       "<style scoped>\n",
       "    .dataframe tbody tr th:only-of-type {\n",
       "        vertical-align: middle;\n",
       "    }\n",
       "\n",
       "    .dataframe tbody tr th {\n",
       "        vertical-align: top;\n",
       "    }\n",
       "\n",
       "    .dataframe thead th {\n",
       "        text-align: right;\n",
       "    }\n",
       "</style>\n",
       "<table border=\"1\" class=\"dataframe\">\n",
       "  <thead>\n",
       "    <tr style=\"text-align: right;\">\n",
       "      <th></th>\n",
       "      <th>label</th>\n",
       "    </tr>\n",
       "  </thead>\n",
       "  <tbody>\n",
       "    <tr>\n",
       "      <th>count</th>\n",
       "      <td>11314.000000</td>\n",
       "    </tr>\n",
       "    <tr>\n",
       "      <th>mean</th>\n",
       "      <td>9.293000</td>\n",
       "    </tr>\n",
       "    <tr>\n",
       "      <th>std</th>\n",
       "      <td>5.562719</td>\n",
       "    </tr>\n",
       "    <tr>\n",
       "      <th>min</th>\n",
       "      <td>0.000000</td>\n",
       "    </tr>\n",
       "    <tr>\n",
       "      <th>25%</th>\n",
       "      <td>5.000000</td>\n",
       "    </tr>\n",
       "    <tr>\n",
       "      <th>50%</th>\n",
       "      <td>9.000000</td>\n",
       "    </tr>\n",
       "    <tr>\n",
       "      <th>75%</th>\n",
       "      <td>14.000000</td>\n",
       "    </tr>\n",
       "    <tr>\n",
       "      <th>max</th>\n",
       "      <td>19.000000</td>\n",
       "    </tr>\n",
       "  </tbody>\n",
       "</table>\n",
       "</div>"
      ],
      "text/plain": [
       "              label\n",
       "count  11314.000000\n",
       "mean       9.293000\n",
       "std        5.562719\n",
       "min        0.000000\n",
       "25%        5.000000\n",
       "50%        9.000000\n",
       "75%       14.000000\n",
       "max       19.000000"
      ]
     },
     "execution_count": 31,
     "metadata": {},
     "output_type": "execute_result"
    }
   ],
   "source": [
    "ds_train.describe()"
   ]
  },
  {
   "cell_type": "code",
   "execution_count": 32,
   "metadata": {
    "colab": {
     "base_uri": "https://localhost:8080/",
     "height": 147
    },
    "id": "kWxA5cmLIo5D",
    "outputId": "b5c4708d-d2d0-4141-f410-ad33839559fe"
   },
   "outputs": [
    {
     "data": {
      "text/plain": [
       "text          0\n",
       "label         0\n",
       "label_text    0\n",
       "dtype: int64"
      ]
     },
     "execution_count": 32,
     "metadata": {},
     "output_type": "execute_result"
    }
   ],
   "source": [
    "ds_train.isnull().sum()"
   ]
  },
  {
   "cell_type": "markdown",
   "metadata": {
    "id": "Z6sS50EOJojW"
   },
   "source": [
    "# Visualizization"
   ]
  },
  {
   "cell_type": "code",
   "execution_count": 33,
   "metadata": {},
   "outputs": [],
   "source": [
    "# mkaing new label test column\n",
    "topic_map = {'alt.atheism': 0,\n",
    "\n",
    "'comp.graphics': 1,\n",
    "'comp.os.ms-windows.misc': 1,\n",
    "'comp.sys.ibm.pc.hardware': 1,\n",
    "'comp.sys.mac.hardware': 1,\n",
    "'comp.windows.x': 1,\n",
    "\n",
    "'misc.forsale': 2,\n",
    "\n",
    "'rec.autos': 3,\n",
    "'rec.motorcycles': 3,\n",
    "'rec.sport.baseball': 3,\n",
    "'rec.sport.hockey': 3,\n",
    "\n",
    "'sci.crypt': 4,\n",
    "'sci.electronics': 4,\n",
    "'sci.med': 4,\n",
    "'sci.space': 4,\n",
    "\n",
    "'soc.religion.christian': 5,\n",
    "\n",
    "'talk.politics.guns': 6,\n",
    "'talk.politics.mideast': 6,\n",
    "'talk.politics.misc': 6,\n",
    "'talk.religion.misc': 6}\n",
    "\n",
    "ds_train['simple_topic'] = ds_train['label_text'].map(topic_map)\n",
    "ds_test['simple_topic'] = ds_test['label_text'].map(topic_map)"
   ]
  },
  {
   "cell_type": "code",
   "execution_count": 34,
   "metadata": {},
   "outputs": [
    {
     "data": {
      "text/html": [
       "<div>\n",
       "<style scoped>\n",
       "    .dataframe tbody tr th:only-of-type {\n",
       "        vertical-align: middle;\n",
       "    }\n",
       "\n",
       "    .dataframe tbody tr th {\n",
       "        vertical-align: top;\n",
       "    }\n",
       "\n",
       "    .dataframe thead th {\n",
       "        text-align: right;\n",
       "    }\n",
       "</style>\n",
       "<table border=\"1\" class=\"dataframe\">\n",
       "  <thead>\n",
       "    <tr style=\"text-align: right;\">\n",
       "      <th></th>\n",
       "      <th>text</th>\n",
       "      <th>label</th>\n",
       "      <th>label_text</th>\n",
       "      <th>simple_topic</th>\n",
       "    </tr>\n",
       "  </thead>\n",
       "  <tbody>\n",
       "    <tr>\n",
       "      <th>0</th>\n",
       "      <td>I was wondering if anyone out there could enli...</td>\n",
       "      <td>7</td>\n",
       "      <td>rec.autos</td>\n",
       "      <td>3</td>\n",
       "    </tr>\n",
       "    <tr>\n",
       "      <th>1</th>\n",
       "      <td>A fair number of brave souls who upgraded thei...</td>\n",
       "      <td>4</td>\n",
       "      <td>comp.sys.mac.hardware</td>\n",
       "      <td>1</td>\n",
       "    </tr>\n",
       "    <tr>\n",
       "      <th>2</th>\n",
       "      <td>well folks, my mac plus finally gave up the gh...</td>\n",
       "      <td>4</td>\n",
       "      <td>comp.sys.mac.hardware</td>\n",
       "      <td>1</td>\n",
       "    </tr>\n",
       "    <tr>\n",
       "      <th>3</th>\n",
       "      <td>\\nDo you have Weitek's address/phone number?  ...</td>\n",
       "      <td>1</td>\n",
       "      <td>comp.graphics</td>\n",
       "      <td>1</td>\n",
       "    </tr>\n",
       "    <tr>\n",
       "      <th>4</th>\n",
       "      <td>From article &lt;C5owCB.n3p@world.std.com&gt;, by to...</td>\n",
       "      <td>14</td>\n",
       "      <td>sci.space</td>\n",
       "      <td>4</td>\n",
       "    </tr>\n",
       "  </tbody>\n",
       "</table>\n",
       "</div>"
      ],
      "text/plain": [
       "                                                text  label  \\\n",
       "0  I was wondering if anyone out there could enli...      7   \n",
       "1  A fair number of brave souls who upgraded thei...      4   \n",
       "2  well folks, my mac plus finally gave up the gh...      4   \n",
       "3  \\nDo you have Weitek's address/phone number?  ...      1   \n",
       "4  From article <C5owCB.n3p@world.std.com>, by to...     14   \n",
       "\n",
       "              label_text  simple_topic  \n",
       "0              rec.autos             3  \n",
       "1  comp.sys.mac.hardware             1  \n",
       "2  comp.sys.mac.hardware             1  \n",
       "3          comp.graphics             1  \n",
       "4              sci.space             4  "
      ]
     },
     "execution_count": 34,
     "metadata": {},
     "output_type": "execute_result"
    }
   ],
   "source": [
    "ds_train.head()"
   ]
  },
  {
   "cell_type": "code",
   "execution_count": 35,
   "metadata": {},
   "outputs": [
    {
     "data": {
      "text/html": [
       "<div>\n",
       "<style scoped>\n",
       "    .dataframe tbody tr th:only-of-type {\n",
       "        vertical-align: middle;\n",
       "    }\n",
       "\n",
       "    .dataframe tbody tr th {\n",
       "        vertical-align: top;\n",
       "    }\n",
       "\n",
       "    .dataframe thead th {\n",
       "        text-align: right;\n",
       "    }\n",
       "</style>\n",
       "<table border=\"1\" class=\"dataframe\">\n",
       "  <thead>\n",
       "    <tr style=\"text-align: right;\">\n",
       "      <th></th>\n",
       "      <th>text</th>\n",
       "      <th>label</th>\n",
       "      <th>label_text</th>\n",
       "      <th>simple_topic</th>\n",
       "    </tr>\n",
       "  </thead>\n",
       "  <tbody>\n",
       "    <tr>\n",
       "      <th>0</th>\n",
       "      <td>I am a little confused on all of the models of...</td>\n",
       "      <td>7</td>\n",
       "      <td>rec.autos</td>\n",
       "      <td>3</td>\n",
       "    </tr>\n",
       "    <tr>\n",
       "      <th>1</th>\n",
       "      <td>I'm not familiar at all with the format of the...</td>\n",
       "      <td>5</td>\n",
       "      <td>comp.windows.x</td>\n",
       "      <td>1</td>\n",
       "    </tr>\n",
       "    <tr>\n",
       "      <th>2</th>\n",
       "      <td>\\nIn a word, yes.\\n</td>\n",
       "      <td>0</td>\n",
       "      <td>alt.atheism</td>\n",
       "      <td>0</td>\n",
       "    </tr>\n",
       "    <tr>\n",
       "      <th>3</th>\n",
       "      <td>\\nThey were attacking the Iraqis to drive them...</td>\n",
       "      <td>17</td>\n",
       "      <td>talk.politics.mideast</td>\n",
       "      <td>6</td>\n",
       "    </tr>\n",
       "    <tr>\n",
       "      <th>4</th>\n",
       "      <td>\\nI've just spent two solid months arguing tha...</td>\n",
       "      <td>19</td>\n",
       "      <td>talk.religion.misc</td>\n",
       "      <td>6</td>\n",
       "    </tr>\n",
       "  </tbody>\n",
       "</table>\n",
       "</div>"
      ],
      "text/plain": [
       "                                                text  label  \\\n",
       "0  I am a little confused on all of the models of...      7   \n",
       "1  I'm not familiar at all with the format of the...      5   \n",
       "2                                \\nIn a word, yes.\\n      0   \n",
       "3  \\nThey were attacking the Iraqis to drive them...     17   \n",
       "4  \\nI've just spent two solid months arguing tha...     19   \n",
       "\n",
       "              label_text  simple_topic  \n",
       "0              rec.autos             3  \n",
       "1         comp.windows.x             1  \n",
       "2            alt.atheism             0  \n",
       "3  talk.politics.mideast             6  \n",
       "4     talk.religion.misc             6  "
      ]
     },
     "execution_count": 35,
     "metadata": {},
     "output_type": "execute_result"
    }
   ],
   "source": [
    "ds_test.head()"
   ]
  },
  {
   "cell_type": "code",
   "execution_count": 36,
   "metadata": {},
   "outputs": [
    {
     "data": {
      "text/plain": [
       "([<matplotlib.axis.YTick at 0x1c309899610>,\n",
       "  <matplotlib.axis.YTick at 0x1c37e7631d0>,\n",
       "  <matplotlib.axis.YTick at 0x1c30b02ab90>,\n",
       "  <matplotlib.axis.YTick at 0x1c37e3285d0>,\n",
       "  <matplotlib.axis.YTick at 0x1c37e306990>,\n",
       "  <matplotlib.axis.YTick at 0x1c37e3194d0>,\n",
       "  <matplotlib.axis.YTick at 0x1c37e2c5410>],\n",
       " [Text(0, 0, '0'),\n",
       "  Text(0, 500, '500'),\n",
       "  Text(0, 1000, '1000'),\n",
       "  Text(0, 1500, '1500'),\n",
       "  Text(0, 2000, '2000'),\n",
       "  Text(0, 2500, '2500'),\n",
       "  Text(0, 3000, '3000')])"
      ]
     },
     "execution_count": 36,
     "metadata": {},
     "output_type": "execute_result"
    },
    {
     "data": {
      "image/png": "[encoded data removed]",
      "text/plain": [
       "<Figure size 1500x500 with 2 Axes>"
      ]
     },
     "metadata": {},
     "output_type": "display_data"
    },
    {
     "data": {
      "image/png": "[encoded data removed]",
      "text/plain": [
       "<Figure size 1500x500 with 2 Axes>"
      ]
     },
     "metadata": {},
     "output_type": "display_data"
    }
   ],
   "source": [
    "import matplotlib.pyplot as plt\n",
    "import numpy as np\n",
    "\n",
    "# topics in datasets\n",
    "plt.figure(figsize=(15,5))\n",
    "plt.subplot(1,2,1)\n",
    "plt.hist(ds_train['label'],bins=20)\n",
    "plt.title('topics in train')\n",
    "plt.xticks(np.arange(0,20,2))\n",
    "plt.yticks(np.arange(0,650,100))\n",
    "\n",
    "plt.subplot(1,2,2)\n",
    "plt.hist(ds_test['label'],bins=20)\n",
    "plt.title('topics in test')\n",
    "plt.xticks(np.arange(0,20,2))\n",
    "plt.yticks(np.arange(0,650,100))\n",
    "\n",
    "# simple opics in datasets\n",
    "plt.figure(figsize=(15,5))\n",
    "plt.subplot(1,2,1)\n",
    "plt.hist(ds_train['simple_topic'],bins=7)\n",
    "plt.title('simplified topics in train')\n",
    "plt.yticks(np.arange(0,3200,500))\n",
    "\n",
    "plt.subplot(1,2,2)\n",
    "plt.hist(ds_test['simple_topic'],bins=7)\n",
    "plt.title('simplified topics in test')\n",
    "plt.yticks(np.arange(0,3200,500))"
   ]
  },
  {
   "cell_type": "markdown",
   "metadata": {},
   "source": [
    "# Preprocessing"
   ]
  },
  {
   "cell_type": "code",
   "execution_count": 38,
   "metadata": {},
   "outputs": [
    {
     "name": "stderr",
     "output_type": "stream",
     "text": [
      "[nltk_data] Downloading package stopwords to\n",
      "[nltk_data]     C:\\Users\\ElenaFall\\AppData\\Roaming\\nltk_data...\n",
      "[nltk_data]   Package stopwords is already up-to-date!\n"
     ]
    }
   ],
   "source": [
    "# remove newlines\n",
    "ds_train['preprocess'] = ds_train['text'].str.replace('\\n',' ')\n",
    "ds_test['preprocess'] = ds_test['text'].str.replace('\\n',' ')\n",
    "\n",
    "# remove HTML\n",
    "ds_train['preprocess'] = ds_train['preprocess'].apply(lambda x: remove_html(x))\n",
    "ds_test['preprocess'] = ds_test['preprocess'].apply(lambda x: remove_html(x))\n",
    "\n",
    "#remove URLs\n",
    "ds_train['preprocess'] = ds_train['preprocess'].apply(lambda x: remove_urls(x))\n",
    "ds_test['preprocess'] = ds_test['preprocess'].apply(lambda x: remove_urls(x))\n",
    "\n",
    "# remove emails\n",
    "ds_train['preprocess'] = ds_train['preprocess'].apply(lambda x: remove_emails(x))\n",
    "ds_test['preprocess'] = ds_test['preprocess'].apply(lambda x: remove_emails(x))\n",
    "\n",
    "# remove punctuation\n",
    "ds_train['preprocess'] = ds_train['preprocess'].apply(lambda x: remove_punctuation(x))\n",
    "ds_test['preprocess'] = ds_test['preprocess'].apply(lambda x: remove_punctuation(x))\n",
    "\n",
    "# convert to lowercase\n",
    "ds_train['preprocess'] = ds_train['preprocess'].str.lower()\n",
    "ds_test['preprocess'] = ds_test['preprocess'].str.lower()\n",
    "\n",
    "# remove stop words\n",
    "import nltk\n",
    "nltk.download('stopwords')\n",
    "from nltk.corpus import stopwords\n",
    "import pandas as pd\n",
    "\n",
    "stop_words = stopwords.words('english')\n",
    "def remove_stopwords(text):\n",
    "    # Tokenize the text (assuming it's a string)\n",
    "    words = text.split()\n",
    "    \n",
    "    # Remove stop words\n",
    "    filtered_words = [word for word in words if word.lower() not in stop_words]\n",
    "    \n",
    "    return \" \".join(filtered_words) # Return as a string\n",
    "\n",
    "ds_train['no_stopword'] = ds_train['preprocess'].apply(lambda x: remove_stopwords(x))\n",
    "ds_test['no_stopword'] = ds_test['preprocess'].apply(lambda x: remove_stopwords(x))\n",
    "\n",
    "#save to pkl\n",
    "ds_train.to_pickle('pickles/ds_train.pkl')\n",
    "ds_test.to_pickle('pickles/ds_test.pkl')"
   ]
  }
 ],
 "metadata": {
  "accelerator": "GPU",
  "colab": {
   "gpuType": "T4",
   "include_colab_link": true,
   "provenance": []
  },
  "kernelspec": {
   "display_name": ".conda",
   "language": "python",
   "name": "python3"
  },
  "language_info": {
   "codemirror_mode": {
    "name": "ipython",
    "version": 3
   },
   "file_extension": ".py",
   "mimetype": "text/x-python",
   "name": "python",
   "nbconvert_exporter": "python",
   "pygments_lexer": "ipython3",
   "version": "3.11.10"
  },
  "orig_nbformat": 4
 },
 "nbformat": 4,
 "nbformat_minor": 0
}
